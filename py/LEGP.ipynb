{
 "metadata": {
  "name": "LEGP"
 },
 "nbformat": 3,
 "nbformat_minor": 0,
 "worksheets": [
  {
   "cells": [
    {
     "cell_type": "code",
     "collapsed": false,
     "input": [
      "import simulation as sim\n",
      "import pvsim as pvsim\n",
      "import matplotlib.pyplot as plt\n",
      "import numpy as np\n",
      "reload(sim)"
     ],
     "language": "python",
     "metadata": {},
     "outputs": [
      {
       "output_type": "stream",
       "stream": "stderr",
       "text": [
        "/usr/lib/python2.7/site-packages/pandas/core/daterange.py:21: FutureWarning: DateRange is deprecated, use DatetimeIndex instead\n",
        "  FutureWarning)\n"
       ]
      },
      {
       "output_type": "pyout",
       "prompt_number": 2,
       "text": [
        "<module 'simulation' from 'simulation.pyc'>"
       ]
      }
     ],
     "prompt_number": 2
    },
    {
     "cell_type": "code",
     "collapsed": false,
     "input": [
      "load = sim.freezer_load()\n",
      "inverter = pvsim.Inverter({'output_power':[0,750],'input_power':[0, 750/0.94]})\n",
      "battery = pvsim.Battery({'output_power':[0,1000],'efficiency':[0.9, 0.9]})\n",
      "solar = pvsim.Solar()\n",
      "panel = pvsim.Panel(solar, area=3)"
     ],
     "language": "python",
     "metadata": {},
     "outputs": [],
     "prompt_number": 3
    },
    {
     "cell_type": "code",
     "collapsed": false,
     "input": [
      "batt_max = 6000\n",
      "battlist = np.linspace(1000,10000, 10)\n",
      "arealist = np.linspace(2, 4, 10)\n",
      "surface = np.zeros((len(battlist), len(arealist)))\n",
      "for i, batt_max in enumerate(battlist):\n",
      "    for j, area in enumerate(arealist):\n",
      "        panel = pvsim.Panel(solar, area=area)\n",
      "        batt_min = batt_max * 0.5\n",
      "        LEGP, df = sim.calculate_LEGP(inverter, battery, solar, panel, load, batt_max, batt_min)\n",
      "        #print batt_max, area, LEGP\n",
      "        surface[i,j] = LEGP"
     ],
     "language": "python",
     "metadata": {},
     "outputs": [],
     "prompt_number": 6
    },
    {
     "cell_type": "code",
     "collapsed": false,
     "input": [
      "print LEGP\n",
      "df.plot()\n",
      "plt.show()"
     ],
     "language": "python",
     "metadata": {},
     "outputs": [
      {
       "output_type": "stream",
       "stream": "stdout",
       "text": [
        "0.0\n"
       ]
      }
     ],
     "prompt_number": 7
    },
    {
     "cell_type": "code",
     "collapsed": false,
     "input": [
      "plt.imshow(surface)\n",
      "plt.show()"
     ],
     "language": "python",
     "metadata": {},
     "outputs": [],
     "prompt_number": 8
    },
    {
     "cell_type": "code",
     "collapsed": false,
     "input": [],
     "language": "python",
     "metadata": {},
     "outputs": []
    }
   ],
   "metadata": {}
  }
 ]
}