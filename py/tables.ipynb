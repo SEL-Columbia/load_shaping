{
 "metadata": {
  "name": "tables"
 },
 "nbformat": 3,
 "nbformat_minor": 0,
 "worksheets": [
  {
   "cells": [
    {
     "cell_type": "code",
     "collapsed": false,
     "input": [
      "%pylab inline\n",
      "import simulation as sim\n",
      "import pandas as p\n",
      "import datetime as dt"
     ],
     "language": "python",
     "metadata": {},
     "outputs": [
      {
       "output_type": "stream",
       "stream": "stdout",
       "text": [
        "\n",
        "Welcome to pylab, a matplotlib-based Python environment [backend: module://IPython.zmq.pylab.backend_inline].\n",
        "For more information, type 'help(pylab)'.\n"
       ]
      },
      {
       "output_type": "stream",
       "stream": "stderr",
       "text": [
        "/Library/Frameworks/Python.framework/Versions/7.2/lib/python2.7/site-packages/pytz/__init__.py:35: UserWarning: Module argparse was already imported from /Library/Frameworks/Python.framework/Versions/7.2/lib/python2.7/argparse.pyc, but /Library/Frameworks/Python.framework/Versions/7.2/lib/python2.7/site-packages is being added to sys.path\n",
        "  from pkg_resources import resource_stream\n",
        "/Library/Frameworks/Python.framework/Versions/7.2/lib/python2.7/site-packages/pandas/core/daterange.py:21: FutureWarning: DateRange is deprecated, use DatetimeIndex instead\n",
        "  FutureWarning)\n"
       ]
      }
     ],
     "prompt_number": 1
    },
    {
     "cell_type": "code",
     "collapsed": false,
     "input": [
      "lead_dict = {'type' : 'lead acid',\n",
      "             'cost' : 0.14,\n",
      "             'battery_efficiency_curve' : {'output_power':[0, 1000],\n",
      "                                           'efficiency':[0.75,   0.75]},\n",
      "             'DOD' : 0.5,\n",
      "             'life' : 2\n",
      "             }\n",
      "\n",
      "lith_dict = {'type' : 'LFP',\n",
      "             'cost' : 1,\n",
      "             'battery_efficiency_curve' : {'output_power':[0, 1000],\n",
      "                                           'efficiency':[0.95,   0.95]},\n",
      "             'DOD' : 1.0,\n",
      "             'life' : 6\n",
      "             }\n",
      "\n",
      "pbc_dict = {'type' : 'lead carbon',\n",
      "             'cost' : 0.14,\n",
      "             'battery_efficiency_curve' : {'output_power':[0, 1000],\n",
      "                                           'efficiency':[0.75,   0.75]},\n",
      "             'DOD' : 0.5,\n",
      "             'life' : 6\n",
      "             }\n",
      "\n",
      "def print_metadata():\n",
      "    gitrev = !git rev-parse HEAD\n",
      "    print '% git rev ' + gitrev[0][:6]\n",
      "    path = !pwd\n",
      "    print '% code path ' + path[0]\n",
      "\n",
      "# runs a batch of simulations and returns data frame of results\n",
      "def run_sims(load_list=[], battery_list=[], inverter_type='typical', plot=False, verbose=False):\n",
      "    output = {}\n",
      "    print_metadata()\n",
      "    for load in load_list:\n",
      "        for battery in battery_list:\n",
      "            d = sim.run_simulation(battery, \n",
      "                                   inverter_type=inverter_type, \n",
      "                                   load_type=load, \n",
      "                                   plot=plot, \n",
      "                                   verbose=verbose)\n",
      "            output[load] = d\n",
      "    df = p.DataFrame(output)\n",
      "    return df.T\n",
      "\n",
      "all_loads = ['day', 'night', 'continuous', 'lighting', 'freezer']"
     ],
     "language": "python",
     "metadata": {},
     "outputs": [],
     "prompt_number": 2
    },
    {
     "cell_type": "markdown",
     "metadata": {},
     "source": [
      "## Table with baseline system\n",
      "\n",
      "This shows the differences of necessary capacity for the same load with different time of day profiles."
     ]
    },
    {
     "cell_type": "code",
     "collapsed": false,
     "input": [
      "# table 2\n",
      "print '% table 2'\n",
      "print '%', dt.datetime.now()\n",
      "df2 = run_sims(load_list=all_loads, \n",
      "               battery_list=[lead_dict], \n",
      "               inverter_type='typical')"
     ],
     "language": "python",
     "metadata": {},
     "outputs": [
      {
       "output_type": "stream",
       "stream": "stdout",
       "text": [
        "% table 2\n",
        "% 2012-12-12 17:24:58.030572\n"
       ]
      },
      {
       "output_type": "stream",
       "stream": "stdout",
       "text": [
        "% git rev 2046c7\n"
       ]
      },
      {
       "output_type": "stream",
       "stream": "stdout",
       "text": [
        "% code path /Users/dsoto/repos/GHTC2012/py\n",
        "typical day lead acid         "
       ]
      },
      {
       "output_type": "stream",
       "stream": "stdout",
       "text": [
        " & 0.59 & 0.76 & 1306 & 595 \\\\\n",
        "typical night lead acid       "
       ]
      },
      {
       "output_type": "stream",
       "stream": "stdout",
       "text": [
        " & 0.74 & 4.92 & 8421 & 738 \\\\\n",
        "typical continuous lead acid  "
       ]
      },
      {
       "output_type": "stream",
       "stream": "stdout",
       "text": [
        " & 0.70 & 3.08 & 5281 & 704 \\\\\n",
        "typical lighting lead acid    "
       ]
      },
      {
       "output_type": "stream",
       "stream": "stdout",
       "text": [
        " & 0.73 & 3.66 & 6270 & 727 \\\\\n",
        "typical freezer lead acid     "
       ]
      },
      {
       "output_type": "stream",
       "stream": "stdout",
       "text": [
        " & 0.70 & 3.21 & 5500 & 703 \\\\\n"
       ]
      }
     ],
     "prompt_number": 3
    },
    {
     "cell_type": "code",
     "collapsed": false,
     "input": [
      "levelized_kWh_sold = 11600.45\n",
      "df_plot = df2[['battery_npv', 'panel_cost']] / levelized_kWh_sold\n",
      "df_plot.plot(kind='bar', stacked=True)\n",
      "ylabel('Cost(USD/kWh)')\n",
      "grid()\n",
      "savefig('ipynb_baseline.pdf')"
     ],
     "language": "python",
     "metadata": {},
     "outputs": [
      {
       "output_type": "display_data",
       "png": "[encoded data removed]"
      }
     ],
     "prompt_number": 4
    },
    {
     "cell_type": "markdown",
     "metadata": {},
     "source": [
      "## Table with costs for improved inverter\n",
      "\n"
     ]
    },
    {
     "cell_type": "code",
     "collapsed": false,
     "input": [
      "# table inverter\n",
      "print '% table_inverter'\n",
      "print '%', dt.datetime.now()\n",
      "dfi = run_sims(load_list=all_loads,\n",
      "               battery_list = [lead_dict],\n",
      "               inverter_type='flat')"
     ],
     "language": "python",
     "metadata": {},
     "outputs": [
      {
       "output_type": "stream",
       "stream": "stdout",
       "text": [
        "% table_inverter\n",
        "% 2012-12-12 17:24:59.221218\n"
       ]
      },
      {
       "output_type": "stream",
       "stream": "stdout",
       "text": [
        "% git rev 2046c7\n"
       ]
      },
      {
       "output_type": "stream",
       "stream": "stdout",
       "text": [
        "% code path /Users/dsoto/repos/GHTC2012/py\n",
        "flat day lead acid            "
       ]
      },
      {
       "output_type": "stream",
       "stream": "stdout",
       "text": [
        " & 0.50 & 0.88 & 1509 & 498 \\\\\n",
        "flat night lead acid          "
       ]
      },
      {
       "output_type": "stream",
       "stream": "stdout",
       "text": [
        " & 0.62 & 4.26 & 7289 & 621 \\\\\n",
        "flat continuous lead acid     "
       ]
      },
      {
       "output_type": "stream",
       "stream": "stdout",
       "text": [
        " & 0.53 & 2.33 & 3993 & 532 \\\\\n",
        "flat lighting lead acid       "
       ]
      },
      {
       "output_type": "stream",
       "stream": "stdout",
       "text": [
        " & 0.55 & 2.81 & 4819 & 553 \\\\\n",
        "flat freezer lead acid        "
       ]
      },
      {
       "output_type": "stream",
       "stream": "stdout",
       "text": [
        " & 0.53 & 2.44 & 4176 & 532 \\\\\n"
       ]
      }
     ],
     "prompt_number": 5
    },
    {
     "cell_type": "markdown",
     "metadata": {},
     "source": [
      "## Figure with comparison of inverter and baseline total costs\n",
      "\n",
      "Could I show this stacked?"
     ]
    },
    {
     "cell_type": "code",
     "collapsed": false,
     "input": [
      "# i need to some how combine this with the data frame above or run both in a simulation and plot both\n",
      "\n",
      "levelized_kWh_sold = 11600.45\n",
      "df_plot = dfi[['battery_npv', 'panel_cost']] / levelized_kWh_sold\n",
      "df_plot.plot(kind='bar')\n",
      "ylabel('Cost(USD/kWh)')\n",
      "grid()\n",
      "savefig('ipynb_inverter.pdf')"
     ],
     "language": "python",
     "metadata": {},
     "outputs": [
      {
       "output_type": "display_data",
       "png": "[encoded data removed]"
      }
     ],
     "prompt_number": 6
    },
    {
     "cell_type": "code",
     "collapsed": false,
     "input": [
      "def table_5(plot=False, verbose=False):\n",
      "    print '% table 5'\n",
      "    print '%', dt.datetime.now()\n",
      "    print_metadata()\n",
      "    output = []\n",
      "    both_index = []\n",
      "    load_index = []\n",
      "    battery_index = []\n",
      "    for load in ['day', 'night', 'continuous', 'lighting', 'freezer']:\n",
      "        for battery in [lead_dict, lith_dict, pbc_dict]:\n",
      "            d = sim.run_simulation(battery, inverter_type='typical', load_type=load, plot=plot, verbose=verbose)\n",
      "            d['battery_type'] = battery['type']\n",
      "            d['load_type'] = load\n",
      "            output.append(d)\n",
      "\n",
      "            both_index.append(load + ' ' + battery['type'])\n",
      "            load_index.append(load)\n",
      "            battery_index.append(battery['type'])\n",
      "        print\n",
      "    df = p.DataFrame(output)\n",
      "    return df"
     ],
     "language": "python",
     "metadata": {},
     "outputs": [],
     "prompt_number": 7
    },
    {
     "cell_type": "code",
     "collapsed": false,
     "input": [
      "df5 = table_5(plot=False, verbose=False)"
     ],
     "language": "python",
     "metadata": {},
     "outputs": [
      {
       "output_type": "stream",
       "stream": "stdout",
       "text": [
        "% table 5\n",
        "% 2012-12-12 17:25:00.562387\n"
       ]
      },
      {
       "output_type": "stream",
       "stream": "stdout",
       "text": [
        "% git rev 2046c7\n"
       ]
      },
      {
       "output_type": "stream",
       "stream": "stdout",
       "text": [
        "% code path /Users/dsoto/repos/GHTC2012/py\n",
        "typical day lead acid         "
       ]
      },
      {
       "output_type": "stream",
       "stream": "stdout",
       "text": [
        " & 0.59 & 0.76 & 1306 & 595 \\\\\n",
        "typical day LFP               "
       ]
      },
      {
       "output_type": "stream",
       "stream": "stdout",
       "text": [
        " & 0.57 & 0.76 & 1824 & 566 \\\\\n",
        "typical day lead carbon       "
       ]
      },
      {
       "output_type": "stream",
       "stream": "stdout",
       "text": [
        " & 0.59 & 0.76 & 514 & 595 \\\\\n",
        "\n",
        "typical night lead acid       "
       ]
      },
      {
       "output_type": "stream",
       "stream": "stdout",
       "text": [
        " & 0.74 & 4.92 & 8421 & 738 \\\\\n",
        "typical night LFP             "
       ]
      },
      {
       "output_type": "stream",
       "stream": "stdout",
       "text": [
        " & 0.59 & 3.88 & 9338 & 587 \\\\\n",
        "typical night lead carbon     "
       ]
      },
      {
       "output_type": "stream",
       "stream": "stdout",
       "text": [
        " & 0.74 & 4.92 & 3312 & 738 \\\\\n",
        "\n",
        "typical continuous lead acid  "
       ]
      },
      {
       "output_type": "stream",
       "stream": "stdout",
       "text": [
        " & 0.70 & 3.08 & 5281 & 704 \\\\\n",
        "typical continuous LFP        "
       ]
      },
      {
       "output_type": "stream",
       "stream": "stdout",
       "text": [
        " & 0.61 & 2.46 & 5931 & 609 \\\\\n",
        "typical continuous lead carbon"
       ]
      },
      {
       "output_type": "stream",
       "stream": "stdout",
       "text": [
        " & 0.70 & 3.08 & 2077 & 704 \\\\\n",
        "\n",
        "typical lighting lead acid    "
       ]
      },
      {
       "output_type": "stream",
       "stream": "stdout",
       "text": [
        " & 0.73 & 3.66 & 6270 & 727 \\\\\n",
        "typical lighting LFP          "
       ]
      },
      {
       "output_type": "stream",
       "stream": "stdout",
       "text": [
        " & 0.62 & 2.93 & 7043 & 615 \\\\\n",
        "typical lighting lead carbon  "
       ]
      },
      {
       "output_type": "stream",
       "stream": "stdout",
       "text": [
        " & 0.73 & 3.66 & 2466 & 727 \\\\\n",
        "\n",
        "typical freezer lead acid     "
       ]
      },
      {
       "output_type": "stream",
       "stream": "stdout",
       "text": [
        " & 0.70 & 3.21 & 5500 & 703 \\\\\n",
        "typical freezer LFP           "
       ]
      },
      {
       "output_type": "stream",
       "stream": "stdout",
       "text": [
        " & 0.61 & 2.57 & 6186 & 606 \\\\\n",
        "typical freezer lead carbon   "
       ]
      },
      {
       "output_type": "stream",
       "stream": "stdout",
       "text": [
        " & 0.70 & 3.21 & 2163 & 703 \\\\\n",
        "\n"
       ]
      }
     ],
     "prompt_number": 8
    }
   ],
   "metadata": {}
  }
 ]
}